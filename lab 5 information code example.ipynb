{
 "cells": [
  {
   "cell_type": "markdown",
   "id": "83773a8c",
   "metadata": {},
   "source": [
    "import numpy as np\n",
    "\n",
    "def fred(a,b):\n",
    "    c = (a+b)*12\n",
    "    return c\n",
    "\n",
    "a = 13.2\n",
    "b = 3.9\n",
    "\n",
    "c = fred(a,b)\n",
    "\n",
    "print(\"c = \", c)"
   ]
  },
  {
   "cell_type": "code",
   "execution_count": 18,
   "id": "a709a886",
   "metadata": {},
   "outputs": [
    {
     "name": "stdout",
     "output_type": "stream",
     "text": [
      "9\n",
      "420000000\n",
      "0.022360679774997897\n",
      "3.370624736026114\n"
     ]
    }
   ],
   "source": [
    "#rule 1\n",
    "def rule1(dA, dB):\n",
    "    dQ = (c*dA)\n",
    "    return dQ\n",
    "c = 3\n",
    "dA = 4\n",
    "\n",
    "\n",
    "\n",
    "dx = rule1(c,dA)\n",
    "print (dx)\n",
    "#rule 2\n",
    "def rule2(c,m,A,dA):\n",
    "    dQ = c*m*(A**(m-1))*dA\n",
    "    return dQ\n",
    "c = 5\n",
    "m = 7\n",
    "A = 10\n",
    "dA = 12\n",
    "\n",
    "dx = rule2(c,m,A,dA)\n",
    "print(dx)\n",
    "#rule 3\n",
    "def rule3(dA, dB):\n",
    "    dQ = np.sqrt(dA**2 + dB**2)\n",
    "    return dQ\n",
    "\n",
    "dx1 = 0.01 \n",
    "dx2 = 0.02\n",
    "\n",
    "dx = rule3(dx1,dx2)\n",
    "print (dx)\n",
    "#rule 4\n",
    "def rule4(m,A,dA,n,dB,B):\n",
    "    dQ = np.sqrt(((m*dA)/A)**2+((n*dB)/B)**2)\n",
    "    return dQ\n",
    "m = 1\n",
    "dA = 3\n",
    "A = 10\n",
    "n =1 \n",
    "dB =5\n",
    "B = 10\n",
    "dx = rule4(m,dA,A,n,dB,B)\n",
    "print(dx)"
   ]
  },
  {
   "cell_type": "code",
   "execution_count": 22,
   "id": "c97a225d",
   "metadata": {},
   "outputs": [
    {
     "name": "stdout",
     "output_type": "stream",
     "text": [
      "0.006009659392142002\n"
     ]
    }
   ],
   "source": [
    "#rule 4\n",
    "def rule4(m,A,dA,n,dB,B):\n",
    "    dQ = np.sqrt((((m*dA)/A)**2)+(((n*dB)/B)**2))\n",
    "    return dQ\n",
    "m = 1\n",
    "dA = 0.005\n",
    "A = 0.99\n",
    "n = 1 \n",
    "dB = 0.00696\n",
    "B = 2.1369\n",
    "dx = rule4(m,A,dA,n,dB,B)\n",
    "print(dx)"
   ]
  },
  {
   "cell_type": "markdown",
   "id": "ad684ee1",
   "metadata": {},
   "source": [
    "Our uncertainty was 0.006 in last weeks lab and rule 4 calculated 0.006"
   ]
  },
  {
   "cell_type": "code",
   "execution_count": 24,
   "id": "8d880154",
   "metadata": {},
   "outputs": [
    {
     "name": "stdout",
     "output_type": "stream",
     "text": [
      "1.1166666666666667 0.10363754503432018\n"
     ]
    }
   ],
   "source": [
    "x = np.array([1.1,1.3,1.4,0.9,0.95,1.05])\n",
    "\n",
    "avg_x = np.average(x)\n",
    "err_x = np.std(x)/np.sqrt(3)\n",
    "print(avg_x,err_x)"
   ]
  },
  {
   "cell_type": "markdown",
   "id": "1fd464d7",
   "metadata": {},
   "source": [
    "The avergae of the data set provided was 1.1667 and the program gave the average of 1.116666666667 an duncertainty of 0.1036\n"
   ]
  },
  {
   "cell_type": "markdown",
   "id": "fb6c6f6e",
   "metadata": {},
   "source": [
    "$Q = \\sqrt{(\\delta A)^2 + (\\delta B)^2}$"
   ]
  },
  {
   "cell_type": "markdown",
   "id": "f15c3408",
   "metadata": {},
   "source": [
    "$Q = \\sqrt{(\\frac{0.05}{0.99})^2 + (\\frac{0.00696}{2.1369})^2}$"
   ]
  },
  {
   "cell_type": "code",
   "execution_count": null,
   "id": "eec743a8",
   "metadata": {},
   "outputs": [],
   "source": []
  }
 ],
 "metadata": {
  "kernelspec": {
   "display_name": "Python 3",
   "language": "python",
   "name": "python3"
  },
  "language_info": {
   "codemirror_mode": {
    "name": "ipython",
    "version": 3
   },
   "file_extension": ".py",
   "mimetype": "text/x-python",
   "name": "python",
   "nbconvert_exporter": "python",
   "pygments_lexer": "ipython3",
   "version": "3.8.8"
  }
 },
 "nbformat": 4,
 "nbformat_minor": 5
}
